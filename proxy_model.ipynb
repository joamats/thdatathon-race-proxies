{
 "cells": [
  {
   "cell_type": "code",
   "execution_count": 481,
   "metadata": {},
   "outputs": [],
   "source": [
    "import pandas as pd\n",
    "import numpy as np\n",
    "\n",
    "from sklearn.metrics import r2_score \n",
    "from sklearn.metrics import mean_squared_error\n",
    "\n",
    "from sklearn.model_selection import train_test_split\n",
    "\n",
    "import scipy.stats as stats"
   ]
  },
  {
   "cell_type": "code",
   "execution_count": 725,
   "metadata": {},
   "outputs": [
    {
     "name": "stdout",
     "output_type": "stream",
     "text": [
      "MIMIC: 40400\n",
      "White: 0.95 (3.05)\n",
      "Non-White: 1.56 (3.19)\n"
     ]
    }
   ],
   "source": [
    "mimic = pd.read_csv(\"mimic_pairs.csv\")\n",
    "\n",
    "mimic = mimic[(mimic.SaO2 >= 70) & (mimic.SpO2 >= 70)]\n",
    "mimic = mimic[(mimic.SaO2 <= 100) & (mimic.SpO2 <= 100)]\n",
    "mimic = mimic[mimic.race_group != \"Other\"]\n",
    "mimic = mimic[mimic.delta_SpO2 >= -30]\n",
    "\n",
    "mimic[\"gap\"] = mimic.SpO2 - mimic.SaO2\n",
    "mimic[\"race\"] = mimic.race_group.apply(lambda x: \"White\" if x == \"White\" else \"Non-White\" )\n",
    "\n",
    "print(f\"MIMIC: {len(mimic)}\")\n",
    "\n",
    "mimic_white = mimic[mimic.race == \"White\"]\n",
    "mimic_nonwhite = mimic[mimic.race == \"Non-White\"]\n",
    "\n",
    "print(f\"White: {mimic_white.gap.mean():.2f} ({mimic_white.gap.std():.2f})\")\n",
    "print(f\"Non-White: {mimic_nonwhite.gap.mean():.2f} ({mimic_nonwhite.gap.std():.2f})\")"
   ]
  },
  {
   "cell_type": "code",
   "execution_count": 726,
   "metadata": {},
   "outputs": [
    {
     "name": "stdout",
     "output_type": "stream",
     "text": [
      "eICU: 105214\n",
      "White: 1.09 (3.85)\n",
      "Non-White: 1.73 (4.20)\n"
     ]
    }
   ],
   "source": [
    "eicu = pd.read_csv(\"eicu_pairs.csv\")\n",
    "\n",
    "eicu = eicu[(eicu.SaO2 >= 70) & (eicu.SpO2 >= 70)]\n",
    "eicu = eicu[(eicu.SaO2 <= 100) & (eicu.SpO2 <= 100)]\n",
    "eicu = eicu[eicu.race_group != \"Other\"]\n",
    "eicu = eicu[eicu.delta_SpO2 >= -30]\n",
    "\n",
    "eicu[\"gap\"] = eicu.SpO2 - eicu.SaO2\n",
    "eicu[\"race\"] = eicu.race_group.apply(lambda x: \"White\" if x == \"White\" else \"Non-White\" )\n",
    "\n",
    "print(f\"eICU: {len(eicu)}\")\n",
    "\n",
    "eicu_white = eicu[eicu.race == \"White\"]\n",
    "eicu_nonwhite = eicu[eicu.race == \"Non-White\"]\n",
    "\n",
    "print(f\"White: {eicu_white.gap.mean():.2f} ({eicu_white.gap.std():.2f})\")\n",
    "print(f\"Non-White: {eicu_nonwhite.gap.mean():.2f} ({eicu_nonwhite.gap.std():.2f})\")"
   ]
  },
  {
   "cell_type": "markdown",
   "metadata": {},
   "source": [
    "Let's Merge MIMIC and eICU"
   ]
  },
  {
   "cell_type": "code",
   "execution_count": 669,
   "metadata": {},
   "outputs": [],
   "source": [
    "all_pairs = pd.concat([mimic,eicu],axis=0)[['gap','race']]"
   ]
  },
  {
   "cell_type": "markdown",
   "metadata": {},
   "source": [
    "Undersampled dataframe "
   ]
  },
  {
   "cell_type": "code",
   "execution_count": 676,
   "metadata": {},
   "outputs": [],
   "source": [
    "under_black = all_pairs[all_pairs.race == \"White\"].sample(len(all_pairs[all_pairs.race == \"Non-White\"]))\n",
    "all_pairs_undersampled = pd.concat([all_pairs[all_pairs.race == \"Non-White\"], under_black], axis=0)"
   ]
  },
  {
   "cell_type": "code",
   "execution_count": 682,
   "metadata": {},
   "outputs": [
    {
     "data": {
      "text/plain": [
       "24918"
      ]
     },
     "execution_count": 682,
     "metadata": {},
     "output_type": "execute_result"
    }
   ],
   "source": [
    "len(all_pairs_undersampled[all_pairs_undersampled.race == \"Non-White\"])"
   ]
  },
  {
   "cell_type": "code",
   "execution_count": 683,
   "metadata": {
    "scrolled": true
   },
   "outputs": [
    {
     "data": {
      "text/plain": [
       "24918"
      ]
     },
     "execution_count": 683,
     "metadata": {},
     "output_type": "execute_result"
    }
   ],
   "source": [
    "len(all_pairs_undersampled[all_pairs_undersampled.race == \"White\"])"
   ]
  },
  {
   "cell_type": "markdown",
   "metadata": {},
   "source": [
    "Get Model"
   ]
  },
  {
   "cell_type": "code",
   "execution_count": 730,
   "metadata": {},
   "outputs": [
    {
     "name": "stdout",
     "output_type": "stream",
     "text": [
      "Accuracy: 0.545\n",
      "Balanced Accuracy: 0.544\n",
      "              precision    recall  f1-score   support\n",
      "\n",
      "   Non-White      0.545     0.487     0.515      2466\n",
      "       White      0.545     0.601     0.572      2518\n",
      "\n",
      "    accuracy                          0.545      4984\n",
      "   macro avg      0.545     0.544     0.543      4984\n",
      "weighted avg      0.545     0.545     0.543      4984\n",
      "\n"
     ]
    }
   ],
   "source": [
    "from sklearn.linear_model import LogisticRegression\n",
    "\n",
    "data = all_pairs_undersampled\n",
    "\n",
    "X_train, X_test, y_train, y_test = train_test_split(data.gap, data.race, test_size=0.1, random_state=42)    \n",
    "\n",
    "X_train = X_train.values.reshape(-1,1)\n",
    "X_test = X_test.values.reshape(-1,1)\n",
    "\n",
    "# Create a logistic regression model\n",
    "model = LogisticRegression()\n",
    "\n",
    "# Train the model on the training set\n",
    "model.fit(X_train, y_train)\n",
    "\n",
    "# Make predictions on the test set\n",
    "y_pred = model.predict(X_test)\n",
    "\n",
    "print(f\"Accuracy: {accuracy_score(y_test, y_pred):.3f}\")\n",
    "print(f\"Balanced Accuracy: {balanced_accuracy_score(y_test, y_pred):.3f}\")\n",
    "print(classification_report(y_test, y_pred, digits=3))"
   ]
  },
  {
   "cell_type": "code",
   "execution_count": 700,
   "metadata": {},
   "outputs": [
    {
     "data": {
      "image/png": "[encoded data removed]",
      "text/plain": [
       "<Figure size 432x288 with 1 Axes>"
      ]
     },
     "metadata": {
      "needs_background": "light"
     },
     "output_type": "display_data"
    }
   ],
   "source": [
    "from sklearn.metrics import roc_curve, roc_auc_score\n",
    "import matplotlib.pyplot as plt\n",
    "\n",
    "y_probs = model.predict_proba(X_test)[:, 1]\n",
    "y_test = list(y_test.apply(lambda x: 1 if x == \"White\" else 0))\n",
    "\n",
    "fpr, tpr, thresholds = roc_curve(y_test, y_probs)\n",
    "\n",
    "# Calculate the area under the ROC curve (AUC)\n",
    "auc = roc_auc_score(y_test, y_probs)\n",
    "\n",
    "\n",
    "# Plot the ROC curve\n",
    "plt.plot(fpr, tpr, label='ROC Curve (AUC = {:.2f})'.format(auc))\n",
    "plt.plot([0, 1], [0, 1], linestyle='--', label='Random Classifier')\n",
    "plt.xlabel('False Positive Rate')\n",
    "plt.ylabel('True Positive Rate')\n",
    "plt.title('Receiver Operating Characteristic (ROC) Curve')\n",
    "plt.legend()\n",
    "plt.show()\n"
   ]
  },
  {
   "cell_type": "code",
   "execution_count": 715,
   "metadata": {},
   "outputs": [
    {
     "name": "stdout",
     "output_type": "stream",
     "text": [
      "Coefficients: [-0.04243341]\n",
      "Intercept: [0.05649425]\n"
     ]
    }
   ],
   "source": [
    "# Get the coefficients (weights) of the model\n",
    "coef = model.coef_[0]\n",
    "\n",
    "# Get the intercept of the model\n",
    "intercept = model.intercept_\n",
    "\n",
    "# Print the coefficients and intercept\n",
    "print(\"Coefficients:\", coef)\n",
    "print(\"Intercept:\", intercept)"
   ]
  },
  {
   "cell_type": "code",
   "execution_count": 724,
   "metadata": {},
   "outputs": [],
   "source": [
    "def predict_race(gap):\n",
    "    \n",
    "    coef = -0.04243341\n",
    "    intercept = 0.05649425\n",
    "\n",
    "    z = intercept + coef * gap\n",
    "    return np.round(1 / (1 + np.exp(-z)))"
   ]
  },
  {
   "cell_type": "code",
   "execution_count": 723,
   "metadata": {},
   "outputs": [
    {
     "data": {
      "text/plain": [
       "array([1.])"
      ]
     },
     "execution_count": 723,
     "metadata": {},
     "output_type": "execute_result"
    }
   ],
   "source": [
    "predict_race()"
   ]
  },
  {
   "cell_type": "code",
   "execution_count": null,
   "metadata": {},
   "outputs": [],
   "source": []
  }
 ],
 "metadata": {
  "kernelspec": {
   "display_name": "Python 3",
   "language": "python",
   "name": "python3"
  },
  "language_info": {
   "codemirror_mode": {
    "name": "ipython",
    "version": 3
   },
   "file_extension": ".py",
   "mimetype": "text/x-python",
   "name": "python",
   "nbconvert_exporter": "python",
   "pygments_lexer": "ipython3",
   "version": "3.8.5"
  }
 },
 "nbformat": 4,
 "nbformat_minor": 4
}
